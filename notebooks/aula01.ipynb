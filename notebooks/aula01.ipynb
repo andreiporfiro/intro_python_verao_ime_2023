{
 "cells": [
  {
   "cell_type": "markdown",
   "metadata": {
    "collapsed": true,
    "pycharm": {
     "name": "#%% md\n"
    }
   },
   "source": [
    "# Introdução ao Python para análise exploratória de dados - aula01"
   ]
  },
  {
   "cell_type": "markdown",
   "metadata": {
    "pycharm": {
     "name": "#%% md\n"
    }
   },
   "source": [
    "![](../img/intro_python.png)"
   ]
  },
  {
   "cell_type": "markdown",
   "metadata": {
    "pycharm": {
     "name": "#%% md\n"
    }
   },
   "source": [
    " Na última aula falamos sobre os tipos mais simples de variáveis do Python. Nesta aula falaremos sobre variáveis mais complexas, mas que ainda assim fazem parte do conjunto de variáveis nativas (*built-in*) do Python: lista, tupla e dicionário."
   ]
  },
  {
   "attachments": {},
   "cell_type": "markdown",
   "metadata": {
    "pycharm": {
     "name": "#%% md\n"
    }
   },
   "source": [
    "**Lista:** é uma coleção de itens armazenados de forma sequencial e ordenada.\n",
    "Podemos colocar qualquer informação em uma lista e os itens dela não precisam ser relacionados. As listas são acessadas por meio de um índice entre colchetes (lembrando que o Python inicia a indexação do 0).\n",
    "\n",
    "**Tupla:** também é uma coleção de itens, porém imutável.\n",
    "Uma vez criada, não podemos remover, adicionar ou alterar nenhum de seus itens. Contudo, se um dos itens da mesma é um objeto mutável (uma lista, por exemplo), é possível altera-lo, mas a tupla em si não muda.\n",
    "\n",
    "**Dicionário:** coleção não ordenada de pares chave-valor, onde cada elemento possui uma chave (um nome) associado.\n",
    "Cada item pode ser acessado por essa chave que deve ser um valor imutável de qualquer tipo (string, numérico ou tupla, por exemplo)"
   ]
  },
  {
   "cell_type": "markdown",
   "metadata": {
    "pycharm": {
     "name": "#%% md\n"
    }
   },
   "source": [
    "## Lista"
   ]
  },
  {
   "cell_type": "code",
   "execution_count": 2,
   "metadata": {
    "pycharm": {
     "name": "#%%\n"
    }
   },
   "outputs": [
    {
     "name": "stdout",
     "output_type": "stream",
     "text": [
      "['Pulp fiction', 1994, 'Crime/Drama', 8.9]\n"
     ]
    }
   ],
   "source": [
    "filme = ['Pulp fiction', 1994, 'Crime/Drama', 8.9] # atribuição da lista na variável filme\n",
    "print(filme)"
   ]
  },
  {
   "cell_type": "code",
   "execution_count": 3,
   "metadata": {
    "pycharm": {
     "name": "#%%\n"
    }
   },
   "outputs": [
    {
     "data": {
      "text/plain": [
       "'Pulp fiction'"
      ]
     },
     "execution_count": 3,
     "metadata": {},
     "output_type": "execute_result"
    }
   ],
   "source": [
    "filme[0] # acessando os elementos da lista através do índica, onde o Python indexa a partir do 0"
   ]
  },
  {
   "cell_type": "code",
   "execution_count": 4,
   "metadata": {
    "pycharm": {
     "name": "#%%\n"
    }
   },
   "outputs": [],
   "source": [
    "filme = ['Pulp fiction', 1994, 'Crime/Drama', 8.9, ['John Travolta', 'Uma Thurman', 'Samuel L. Jackson']] # lista dentro lista"
   ]
  },
  {
   "cell_type": "code",
   "execution_count": 5,
   "metadata": {
    "pycharm": {
     "name": "#%%\n"
    }
   },
   "outputs": [
    {
     "data": {
      "text/plain": [
       "['John Travolta', 'Uma Thurman', 'Samuel L. Jackson']"
      ]
     },
     "execution_count": 5,
     "metadata": {},
     "output_type": "execute_result"
    }
   ],
   "source": [
    "filme[4]"
   ]
  },
  {
   "cell_type": "code",
   "execution_count": 10,
   "metadata": {
    "pycharm": {
     "name": "#%%\n"
    }
   },
   "outputs": [
    {
     "data": {
      "text/plain": [
       "'Uma Thurman'"
      ]
     },
     "execution_count": 10,
     "metadata": {},
     "output_type": "execute_result"
    }
   ],
   "source": [
    "filme[4][1] # para acessar um dos elementos da lista dentro da lista"
   ]
  },
  {
   "attachments": {},
   "cell_type": "markdown",
   "metadata": {
    "pycharm": {
     "name": "#%% md\n"
    }
   },
   "source": [
    "### Comandos para usar com listas\n",
    "\n",
    "Os principais métodos (comandos) associados ao objeto lista são:\n",
    "\n",
    "**.count()** # conta quantas vezes um dado valor ocorre dentro da lista.\n",
    "\n",
    "**.append()** # acrescenta dados ao final de uma lista.\n",
    "\n",
    "**.insert()** # insere um elemento em uma posicão específica da lista. É computacionalmente mais custoso do que append, pois internamente o Python terá que atualizar todos os índices.\n",
    "\n",
    "**.pop** # operacão inversa do insert, ou seja, remove um elemento de um índice específico e o mostra na tela.\n",
    "\n",
    "**.remove** # localiza o primeiro valor correspondente e o remove da lista.\n",
    "\n",
    "**.join()** # gruda os elementos de uma sequência de strings, usando um parâmetro fornecido. Só funciona com lista de strings.\n",
    "\n",
    "**.split()** # separa uma string com base em algum caracter, criando assim uma lista de strings.\n",
    "\n",
    "**.sort()** # ordena uma lista *in place*, ou seja, sem criar um novo objeto, salvando em cima do mesmo.\n",
    "\n"
   ]
  },
  {
   "cell_type": "code",
   "execution_count": 13,
   "metadata": {
    "pycharm": {
     "name": "#%%\n"
    }
   },
   "outputs": [
    {
     "data": {
      "text/plain": [
       "1"
      ]
     },
     "execution_count": 13,
     "metadata": {},
     "output_type": "execute_result"
    }
   ],
   "source": [
    "filme = ['Pulp fiction', 1994, 'Crime/Drama', 8.9,\n",
    "         ['John Travolta', 'Uma Thurman', 'Samuel L. Jackson']]\n",
    "filme.count(1994) # neste caso, ele não conta os itens da lista dentro da lista"
   ]
  },
  {
   "cell_type": "code",
   "execution_count": 14,
   "metadata": {
    "pycharm": {
     "name": "#%%\n"
    }
   },
   "outputs": [
    {
     "name": "stdout",
     "output_type": "stream",
     "text": [
      "['Pulp fiction', 1994, 'Crime/Drama', 8.9, ['John Travolta', 'Uma Thurman', 'Samuel L. Jackson'], 'Quentin Tarantino']\n"
     ]
    }
   ],
   "source": [
    "filme.append(\"Quentin Tarantino\")\n",
    "print(filme)"
   ]
  },
  {
   "cell_type": "code",
   "execution_count": 15,
   "metadata": {
    "pycharm": {
     "name": "#%%\n"
    }
   },
   "outputs": [
    {
     "data": {
      "text/plain": [
       "['Pulp fiction',\n",
       " 'Quentin Tarantino',\n",
       " 1994,\n",
       " 'Crime/Drama',\n",
       " 8.9,\n",
       " ['John Travolta', 'Uma Thurman', 'Samuel L. Jackson'],\n",
       " 'Quentin Tarantino']"
      ]
     },
     "execution_count": 15,
     "metadata": {},
     "output_type": "execute_result"
    }
   ],
   "source": [
    "filme.insert(1, \"Quentin Tarantino\")\n",
    "filme"
   ]
  },
  {
   "cell_type": "code",
   "execution_count": 16,
   "metadata": {
    "pycharm": {
     "name": "#%%\n"
    }
   },
   "outputs": [
    {
     "data": {
      "text/plain": [
       "['Pulp fiction',\n",
       " 1994,\n",
       " 'Crime/Drama',\n",
       " 8.9,\n",
       " ['John Travolta', 'Uma Thurman', 'Samuel L. Jackson'],\n",
       " 'Quentin Tarantino']"
      ]
     },
     "execution_count": 16,
     "metadata": {},
     "output_type": "execute_result"
    }
   ],
   "source": [
    "filme.remove(\"Quentin Tarantino\") # remove somente a primeira ocorrência do termo utilizado no argumento\n",
    "filme"
   ]
  },
  {
   "cell_type": "code",
   "execution_count": 12,
   "metadata": {
    "pycharm": {
     "name": "#%%\n"
    }
   },
   "outputs": [
    {
     "data": {
      "text/plain": [
       "'John Travolta e Uma Thurman e Samuel L. Jackson'"
      ]
     },
     "execution_count": 12,
     "metadata": {},
     "output_type": "execute_result"
    }
   ],
   "source": [
    "atores = ['John Travolta', 'Uma Thurman', 'Samuel L. Jackson']\n",
    "' e '.join(atores) # junta todos os elementos da lista em uma única string com a string indicada na função (neste caso, ' e ')"
   ]
  },
  {
   "cell_type": "code",
   "execution_count": 15,
   "metadata": {
    "pycharm": {
     "name": "#%%\n"
    }
   },
   "outputs": [
    {
     "data": {
      "text/plain": [
       "['9', ' 94', ' 5']"
      ]
     },
     "execution_count": 15,
     "metadata": {},
     "output_type": "execute_result"
    }
   ],
   "source": [
    "notas = '9, 94, 5' # string de números atribuidos à variável notas\n",
    "notas.split(',') # para separar a string, criando uma lista de strings, basta usar o split baseado na ',' (elemento que está separando)\n",
    "# Logo, split é o contrário do join"
   ]
  },
  {
   "cell_type": "code",
   "execution_count": 16,
   "metadata": {
    "pycharm": {
     "name": "#%%\n"
    }
   },
   "outputs": [],
   "source": [
    "notas = notas.split(',') # salvando a lista na variável notas"
   ]
  },
  {
   "cell_type": "code",
   "execution_count": 23,
   "metadata": {},
   "outputs": [
    {
     "data": {
      "text/plain": [
       "['9', ' 94', ' 5']"
      ]
     },
     "execution_count": 23,
     "metadata": {},
     "output_type": "execute_result"
    }
   ],
   "source": [
    "notas # nota-se que os números foram separados, mas estão entre aspas e, consequentemente, o Python os interpreta como strings, ou seja, não é possível\n",
    "# realizar cálculos"
   ]
  },
  {
   "cell_type": "code",
   "execution_count": 20,
   "metadata": {
    "pycharm": {
     "name": "#%%\n"
    }
   },
   "outputs": [
    {
     "name": "stdout",
     "output_type": "stream",
     "text": [
      "[9, 94, 5]\n",
      "<class 'int'>\n"
     ]
    }
   ],
   "source": [
    "# Uma das formas de transformar as strings em números, utiliza o laço for\n",
    "notas_int = [] # crio uma lista vazia que vai receber os numeros como int\n",
    "for n in notas: # o laço for olha cada elemento da lista, ou seja, para cada n dentro da lista notas\n",
    "    n = int(n) # transforma o n em inteiro\n",
    "    notas_int.append(n) # vou salvando cada um dos números transformados para o tipo int na lista vazia criada\n",
    "print(notas_int)\n",
    "print(type(notas_int[0]))"
   ]
  },
  {
   "cell_type": "code",
   "execution_count": 45,
   "metadata": {
    "pycharm": {
     "name": "#%%\n"
    }
   },
   "outputs": [
    {
     "data": {
      "text/plain": [
       "[5, 9, 94]"
      ]
     },
     "execution_count": 45,
     "metadata": {},
     "output_type": "execute_result"
    }
   ],
   "source": [
    "notas_int.sort()\n",
    "notas_int"
   ]
  },
  {
   "cell_type": "code",
   "execution_count": 24,
   "metadata": {},
   "outputs": [
    {
     "data": {
      "text/plain": [
       "['John Travolta', 'Uma Thurman', 'Samuel L. Jackson']"
      ]
     },
     "execution_count": 24,
     "metadata": {},
     "output_type": "execute_result"
    }
   ],
   "source": [
    "atores"
   ]
  },
  {
   "cell_type": "code",
   "execution_count": 27,
   "metadata": {
    "pycharm": {
     "name": "#%%\n"
    }
   },
   "outputs": [
    {
     "data": {
      "text/plain": [
       "['Uma Thurman', 'John Travolta', 'Samuel L. Jackson']"
      ]
     },
     "execution_count": 27,
     "metadata": {},
     "output_type": "execute_result"
    }
   ],
   "source": [
    "atores.sort(key=len) # o sort sem argumento organiza a string por ordem alfabética\n",
    "# Contudo, é possível passar o argumento key=len para o sort , onde a ordenação é feita pelo tamanho das strings\n",
    "atores"
   ]
  },
  {
   "cell_type": "code",
   "execution_count": 31,
   "metadata": {},
   "outputs": [
    {
     "data": {
      "text/plain": [
       "[5, 2, 1]"
      ]
     },
     "execution_count": 31,
     "metadata": {},
     "output_type": "execute_result"
    }
   ],
   "source": [
    "# no caso de uma lista de números, é possível organizar em ordem crescente não usando nenhum argumento ou usando o argumento reverse=false,\n",
    "# e para ordem decrescente se utiliza o argumento reverse=true\n",
    "\n",
    "idade = [1, 5, 2]\n",
    "# idade.sort() # ordem crescente\n",
    "idade.sort(reverse=True)  # ordem decrescente\n",
    "idade"
   ]
  },
  {
   "attachments": {},
   "cell_type": "markdown",
   "metadata": {
    "pycharm": {
     "name": "#%% md\n"
    }
   },
   "source": [
    "Podemos checar se uma lista contém um dado valor usando o operador *in*.\n",
    "Também podemos checar se uma lista **não** contém um dado valor usando o operador *not* em conjunto."
   ]
  },
  {
   "cell_type": "code",
   "execution_count": 36,
   "metadata": {
    "pycharm": {
     "name": "#%%\n"
    }
   },
   "outputs": [
    {
     "data": {
      "text/plain": [
       "True"
      ]
     },
     "execution_count": 36,
     "metadata": {},
     "output_type": "execute_result"
    }
   ],
   "source": [
    "1994 in filme"
   ]
  },
  {
   "cell_type": "code",
   "execution_count": 37,
   "metadata": {
    "pycharm": {
     "name": "#%%\n"
    }
   },
   "outputs": [
    {
     "data": {
      "text/plain": [
       "False"
      ]
     },
     "execution_count": 37,
     "metadata": {},
     "output_type": "execute_result"
    }
   ],
   "source": [
    "1994 not in filme"
   ]
  },
  {
   "cell_type": "markdown",
   "metadata": {
    "pycharm": {
     "name": "#%% md\n"
    }
   },
   "source": [
    "## Tupla"
   ]
  },
  {
   "cell_type": "code",
   "execution_count": 2,
   "metadata": {
    "pycharm": {
     "name": "#%%\n"
    }
   },
   "outputs": [
    {
     "data": {
      "text/plain": [
       "True"
      ]
     },
     "execution_count": 2,
     "metadata": {},
     "output_type": "execute_result"
    }
   ],
   "source": [
    "# Enquanto para a criação de listas se utiliza []. Para a criação de tuplas não se usa nada ou ():\n",
    "avaliacao = 'ótimo', 'bom', 'regular', 'ruim', 'péssimo'\n",
    "opiniao = ('ótimo', 'bom', 'regular', 'ruim', 'péssimo')\n",
    "avaliacao == opiniao # para verificar igualdade. Atribuição usa apenas um \"=\""
   ]
  },
  {
   "cell_type": "code",
   "execution_count": 3,
   "metadata": {
    "pycharm": {
     "name": "#%%\n"
    }
   },
   "outputs": [],
   "source": [
    "a = (1,) # para criar uma tupla de 1 elemento usamos o parênteses e a vírgula"
   ]
  },
  {
   "cell_type": "code",
   "execution_count": 4,
   "metadata": {
    "pycharm": {
     "name": "#%%\n"
    }
   },
   "outputs": [
    {
     "data": {
      "text/plain": [
       "tuple"
      ]
     },
     "execution_count": 4,
     "metadata": {},
     "output_type": "execute_result"
    }
   ],
   "source": [
    "type(a)"
   ]
  },
  {
   "cell_type": "code",
   "execution_count": 7,
   "metadata": {
    "pycharm": {
     "name": "#%%\n"
    }
   },
   "outputs": [],
   "source": [
    "b = (1) # como não usei a vírcula, então a variável criada é um int"
   ]
  },
  {
   "cell_type": "code",
   "execution_count": 6,
   "metadata": {
    "pycharm": {
     "name": "#%%\n"
    }
   },
   "outputs": [
    {
     "data": {
      "text/plain": [
       "int"
      ]
     },
     "execution_count": 6,
     "metadata": {},
     "output_type": "execute_result"
    }
   ],
   "source": [
    "type(b)"
   ]
  },
  {
   "cell_type": "markdown",
   "metadata": {
    "pycharm": {
     "name": "#%% md\n"
    }
   },
   "source": [
    "Enquanto os objetos armazenados em uma tupla podem ser mutáveis, uma vez que ela é criada não é possível modificar os objetos que estão armazenados em cada índice dela."
   ]
  },
  {
   "cell_type": "code",
   "execution_count": 3,
   "metadata": {
    "pycharm": {
     "name": "#%%\n"
    }
   },
   "outputs": [
    {
     "data": {
      "text/plain": [
       "tuple"
      ]
     },
     "execution_count": 3,
     "metadata": {},
     "output_type": "execute_result"
    }
   ],
   "source": [
    "tup = tuple(['foo', [1, 2], True]) # comando tuple transforma uma lista em tupla\n",
    "# tup[2] = False # a tupla é imutável\n",
    "type(tup)"
   ]
  },
  {
   "cell_type": "markdown",
   "metadata": {
    "pycharm": {
     "name": "#%% md\n"
    }
   },
   "source": [
    "Se um objeto dentro da tupla é mutável, como uma lista, você pode alterá-lo."
   ]
  },
  {
   "cell_type": "code",
   "execution_count": 4,
   "metadata": {
    "pycharm": {
     "name": "#%%\n"
    }
   },
   "outputs": [
    {
     "data": {
      "text/plain": [
       "('foo', [1, 2, 3], True)"
      ]
     },
     "execution_count": 4,
     "metadata": {},
     "output_type": "execute_result"
    }
   ],
   "source": [
    "# Para mudar a lista localizada dentro da tupla, temos que acessar a posição dela, no caso [1]\n",
    "tup[1].append(3) # estamos mudando a lista que está dentro da tupla e não a tupla em si\n",
    "tup"
   ]
  },
  {
   "cell_type": "code",
   "execution_count": 5,
   "metadata": {
    "pycharm": {
     "name": "#%%\n"
    }
   },
   "outputs": [
    {
     "ename": "TypeError",
     "evalue": "'tuple' object does not support item assignment",
     "output_type": "error",
     "traceback": [
      "\u001b[0;31m---------------------------------------------------------------------------\u001b[0m",
      "\u001b[0;31mTypeError\u001b[0m                                 Traceback (most recent call last)",
      "Cell \u001b[0;32mIn[5], line 1\u001b[0m\n\u001b[0;32m----> 1\u001b[0m tup[\u001b[39m1\u001b[39;49m] \u001b[39m=\u001b[39m [\u001b[39m1\u001b[39m,\u001b[39m2\u001b[39m] \u001b[39m# neste caso, ao tentar inserir uma lista nova dentro da tupla, ocorre um erro, pois a tupla é imutável\u001b[39;00m\n",
      "\u001b[0;31mTypeError\u001b[0m: 'tuple' object does not support item assignment"
     ]
    }
   ],
   "source": [
    "tup[1] = [1,2] # neste caso, ao tentar inserir uma lista nova dentro da tupla, ocorre um erro, pois a tupla é imutável"
   ]
  },
  {
   "cell_type": "markdown",
   "metadata": {
    "pycharm": {
     "name": "#%% md\n"
    }
   },
   "source": [
    "### Comandos para usar com tuplas\n",
    "Já que o tamanho e o conteúdo de uma tupla não podem ser modificados, os comandos (ou métodos) relacionados a este tipo de objeto são poucos. Um método útil é o método *.count()* que também vimos disponível para listas"
   ]
  },
  {
   "cell_type": "code",
   "execution_count": 8,
   "metadata": {},
   "outputs": [
    {
     "data": {
      "text/plain": [
       "1"
      ]
     },
     "execution_count": 8,
     "metadata": {},
     "output_type": "execute_result"
    }
   ],
   "source": [
    "tup.count('foo')"
   ]
  },
  {
   "attachments": {},
   "cell_type": "markdown",
   "metadata": {},
   "source": [
    "Nota-se que a tupla é útil ao desenvolvermos uma análise em que alguns dados não podem mudar em nenhum momento, por mais que o usuário tente de forma voluntária ou involuntária."
   ]
  },
  {
   "cell_type": "markdown",
   "metadata": {
    "pycharm": {
     "name": "#%% md\n"
    }
   },
   "source": [
    "## Dicionário"
   ]
  },
  {
   "cell_type": "code",
   "execution_count": 52,
   "metadata": {
    "pycharm": {
     "name": "#%%\n"
    }
   },
   "outputs": [],
   "source": [
    "participante = {} # cria um dicionário vazio"
   ]
  },
  {
   "cell_type": "markdown",
   "metadata": {
    "pycharm": {
     "name": "#%% md\n"
    }
   },
   "source": [
    "Usamos colchetes para criar um dicionário e dois pontos para separa os pares de chave-valor."
   ]
  },
  {
   "cell_type": "code",
   "execution_count": 9,
   "metadata": {
    "pycharm": {
     "name": "#%%\n"
    }
   },
   "outputs": [],
   "source": [
    "participante = {'nome': 'Bruna', 'curso': 'Lógica de programação', 'nota': 10}"
   ]
  },
  {
   "attachments": {},
   "cell_type": "markdown",
   "metadata": {
    "pycharm": {
     "name": "#%% md\n"
    }
   },
   "source": [
    "Podemos acessar, inserir ou configurar os elementos de um dicionário com a mesma sintaxe usada para acessar elementos de uma lista ou tupla, ou no caso específico de dicionários, através das chaves."
   ]
  },
  {
   "cell_type": "code",
   "execution_count": 12,
   "metadata": {
    "pycharm": {
     "name": "#%%\n"
    }
   },
   "outputs": [
    {
     "data": {
      "text/plain": [
       "{'nome': 'Bruna', 'curso': 'Lógica de programação', 'nota': 10, 'faltas': 2}"
      ]
     },
     "execution_count": 12,
     "metadata": {},
     "output_type": "execute_result"
    }
   ],
   "source": [
    "# Inserção de um novo par chave-valor, onde dentro do colchete colocamos a chave e atribuimos o valor correspondente\n",
    "participante[\"faltas\"] = 2\n",
    "participante"
   ]
  },
  {
   "cell_type": "code",
   "execution_count": 16,
   "metadata": {
    "pycharm": {
     "name": "#%%\n"
    }
   },
   "outputs": [
    {
     "data": {
      "text/plain": [
       "'Bruna'"
      ]
     },
     "execution_count": 16,
     "metadata": {},
     "output_type": "execute_result"
    }
   ],
   "source": [
    "# Para consultar o número de faltas\n",
    "participante[\"nome\"]"
   ]
  },
  {
   "cell_type": "code",
   "execution_count": 18,
   "metadata": {
    "pycharm": {
     "name": "#%%\n"
    }
   },
   "outputs": [
    {
     "data": {
      "text/plain": [
       "True"
      ]
     },
     "execution_count": 18,
     "metadata": {},
     "output_type": "execute_result"
    }
   ],
   "source": [
    "\"curso\" in participante # também podemos usar o operador in com dicionários, o qual vai ler somente as chaves"
   ]
  },
  {
   "attachments": {},
   "cell_type": "markdown",
   "metadata": {
    "pycharm": {
     "name": "#%% md\n"
    }
   },
   "source": [
    "### Comandos para usar com dicionários\n",
    "**del** # deleta um valor\n",
    "\n",
    "**.pop()** # simultâneamente retorna o valor e deleta a chave\n",
    "\n",
    "**.keys()** # retorna todas as chaves que o dicionário possui\n",
    "\n",
    "**.values()** # retorna os valores armazenados no dicionário\n",
    "\n",
    "**.update()** # junta dois dicionários\n",
    "\n",
    "**.items()** # retorna o par chave-valor como tupla. Útil quando precisamos iterar sobre os dois.\n",
    "\n"
   ]
  },
  {
   "cell_type": "code",
   "execution_count": 19,
   "metadata": {
    "pycharm": {
     "name": "#%%\n"
    }
   },
   "outputs": [
    {
     "data": {
      "text/plain": [
       "{'nome': 'Bruna', 'curso': 'Lógica de programação', 'nota': 10}"
      ]
     },
     "execution_count": 19,
     "metadata": {},
     "output_type": "execute_result"
    }
   ],
   "source": [
    "del participante['faltas'] # apaga o item através da indicação da chave dentro dos colchetes\n",
    "participante"
   ]
  },
  {
   "cell_type": "code",
   "execution_count": 21,
   "metadata": {
    "pycharm": {
     "name": "#%%\n"
    }
   },
   "outputs": [
    {
     "data": {
      "text/plain": [
       "{'nome': 'Bruna',\n",
       " 'curso': 'Lógica de programação',\n",
       " 'nota': 10,\n",
       " 5: 'número da chamada'}"
      ]
     },
     "execution_count": 21,
     "metadata": {},
     "output_type": "execute_result"
    }
   ],
   "source": [
    "participante[5] = \"número da chamada\" # criação de um novo par chave-valor (a chave pode ser número)\n",
    "participante"
   ]
  },
  {
   "cell_type": "code",
   "execution_count": 22,
   "metadata": {
    "pycharm": {
     "name": "#%%\n"
    }
   },
   "outputs": [
    {
     "data": {
      "text/plain": [
       "'número da chamada'"
      ]
     },
     "execution_count": 22,
     "metadata": {},
     "output_type": "execute_result"
    }
   ],
   "source": [
    "participante.pop(5) # remove o elemento do dicionário a partir da sua chave e retorna qual o valor associado que foi deletado"
   ]
  },
  {
   "cell_type": "code",
   "execution_count": 23,
   "metadata": {
    "pycharm": {
     "name": "#%%\n"
    }
   },
   "outputs": [
    {
     "data": {
      "text/plain": [
       "{'nome': 'Bruna', 'curso': 'Lógica de programação', 'nota': 10}"
      ]
     },
     "execution_count": 23,
     "metadata": {},
     "output_type": "execute_result"
    }
   ],
   "source": [
    "participante"
   ]
  },
  {
   "cell_type": "code",
   "execution_count": 24,
   "metadata": {
    "pycharm": {
     "name": "#%%\n"
    }
   },
   "outputs": [
    {
     "data": {
      "text/plain": [
       "dict_keys(['nome', 'curso', 'nota'])"
      ]
     },
     "execution_count": 24,
     "metadata": {},
     "output_type": "execute_result"
    }
   ],
   "source": [
    "participante.keys() # retorna as chaves do dicionário"
   ]
  },
  {
   "cell_type": "code",
   "execution_count": 25,
   "metadata": {
    "pycharm": {
     "name": "#%%\n"
    }
   },
   "outputs": [
    {
     "data": {
      "text/plain": [
       "dict_values(['Bruna', 'Lógica de programação', 10])"
      ]
     },
     "execution_count": 25,
     "metadata": {},
     "output_type": "execute_result"
    }
   ],
   "source": [
    "participante.values() # retorna os valores do dicionário"
   ]
  },
  {
   "cell_type": "code",
   "execution_count": 28,
   "metadata": {
    "pycharm": {
     "name": "#%%\n"
    }
   },
   "outputs": [
    {
     "data": {
      "text/plain": [
       "dict_items([('nome', 'Bruna'), ('curso', 'Lógica de programação'), ('nota', 10)])"
      ]
     },
     "execution_count": 28,
     "metadata": {},
     "output_type": "execute_result"
    }
   ],
   "source": [
    "participante.items() # retorna os pares chave-valor em tuplas. No exemplo, três tuplas"
   ]
  },
  {
   "cell_type": "code",
   "execution_count": 30,
   "metadata": {
    "pycharm": {
     "name": "#%%\n"
    }
   },
   "outputs": [
    {
     "data": {
      "text/plain": [
       "{'nome': 'Bruna',\n",
       " 'curso': 'Introdução à Lógica de Programação com Python',\n",
       " 'nota': 10,\n",
       " 'provas': [8.7, 9.5, 10],\n",
       " 'exercícios': [7, 8.5, 7.8, 10]}"
      ]
     },
     "execution_count": 30,
     "metadata": {},
     "output_type": "execute_result"
    }
   ],
   "source": [
    "notas = {\"curso\": \"Introdução à Lógica de Programação com Python\", \"nota\": 10, \"provas\": [8.7, 9.5, 10], \"exercícios\": [7, 8.5, 7.8, 10]}\n",
    "\n",
    "participante.update(notas) # junta os dicionários participante e notas. Neste caso, participante recebe notas\n",
    "participante"
   ]
  },
  {
   "cell_type": "code",
   "execution_count": 39,
   "metadata": {},
   "outputs": [
    {
     "data": {
      "text/plain": [
       "{1111: {'curso': 'Introdução à Lógica de Programação com Python',\n",
       "  'nota': 10,\n",
       "  'faltas': 3},\n",
       " 2222: {'curso': 'Introdução à Lógica de Programação com Python',\n",
       "  'nota': 9,\n",
       "  'faltas': 5},\n",
       " 3333: {'curso': 'Introdução à Lógica de Programação com Python',\n",
       "  'nota': 7,\n",
       "  'faltas': 0},\n",
       " 4444: {'curso': 'Introdução à Lógica de Programação com Python',\n",
       "  'nota': 8.5,\n",
       "  'faltas': 1},\n",
       " 5555: {'curso': 'Introdução à Lógica de Programação com Python',\n",
       "  'nota': 9.5,\n",
       "  'faltas': 2}}"
      ]
     },
     "execution_count": 39,
     "metadata": {},
     "output_type": "execute_result"
    }
   ],
   "source": [
    "adrian = {\"curso\": \"Introdução à Lógica de Programação com Python\", \"nota\": 10, \"faltas\": 3}\n",
    "alan = {\"curso\": \"Introdução à Lógica de Programação com Python\", \"nota\": 9, \"faltas\": 5}\n",
    "andrei = {\"curso\": \"Introdução à Lógica de Programação com Python\", \"nota\": 7, \"faltas\": 0}\n",
    "claudio = {\"curso\": \"Introdução à Lógica de Programação com Python\", \"nota\": 8.5, \"faltas\": 1}\n",
    "simone = {\"curso\": \"Introdução à Lógica de Programação com Python\", \"nota\": 9.5, \"faltas\": 2}\n",
    "alunos = {1111:adrian,2222:alan,3333:andrei,4444:claudio,5555:simone} # dicionário com chave matrícula e valor a outra biblioteca contendo\n",
    "# as características de cada aluno\n",
    "alunos"
   ]
  },
  {
   "cell_type": "code",
   "execution_count": 41,
   "metadata": {},
   "outputs": [
    {
     "data": {
      "text/plain": [
       "{'curso': 'Introdução à Lógica de Programação com Python',\n",
       " 'nota': 10,\n",
       " 'faltas': 3}"
      ]
     },
     "execution_count": 41,
     "metadata": {},
     "output_type": "execute_result"
    }
   ],
   "source": [
    "alunos[1111] # consulta o conteúdo da chave 1111"
   ]
  },
  {
   "cell_type": "code",
   "execution_count": 44,
   "metadata": {},
   "outputs": [
    {
     "data": {
      "text/plain": [
       "'Introdução à Lógica de Programação com Python'"
      ]
     },
     "execution_count": 44,
     "metadata": {},
     "output_type": "execute_result"
    }
   ],
   "source": [
    "alunos[1111]['curso'] # consulta o conteúdo do dicionário do dicionário"
   ]
  },
  {
   "cell_type": "markdown",
   "metadata": {
    "pycharm": {
     "name": "#%% md\n"
    }
   },
   "source": [
    "## Estruturas condicionais e de repetição"
   ]
  },
  {
   "cell_type": "markdown",
   "metadata": {
    "pycharm": {
     "name": "#%% md\n"
    }
   },
   "source": [
    "## *if* *else*\n",
    "Checa se uma condicão é um booleano verdadeiro ou pode ser avaliado como True"
   ]
  },
  {
   "cell_type": "code",
   "execution_count": 45,
   "metadata": {
    "pycharm": {
     "name": "#%%\n"
    }
   },
   "outputs": [
    {
     "name": "stdout",
     "output_type": "stream",
     "text": [
      "Durante a viagem fará sol!\n"
     ]
    }
   ],
   "source": [
    "sol = 'sim'\n",
    "if sol == 'sim':\n",
    "    print('Durante a viagem fará sol!')\n",
    "else:\n",
    "    print('Durante a viagem o tempo ficará fechado!')"
   ]
  },
  {
   "cell_type": "markdown",
   "metadata": {
    "pycharm": {
     "name": "#%% md\n"
    }
   },
   "source": [
    "Podemos colocar mais condicões no nosso código:"
   ]
  },
  {
   "cell_type": "code",
   "execution_count": 46,
   "metadata": {
    "pycharm": {
     "name": "#%%\n"
    }
   },
   "outputs": [
    {
     "name": "stdout",
     "output_type": "stream",
     "text": [
      "Durante a viagem fará sol e muito calor!\n"
     ]
    }
   ],
   "source": [
    "sol = 'sim'\n",
    "temp = 30\n",
    "if sol == 'sim':\n",
    "    if temp >= 25:\n",
    "        print('Durante a viagem fará sol e muito calor!')\n",
    "    else:\n",
    "        print('Durante a viagem fará sol mas pouco calor')\n",
    "else:\n",
    "    if temp >= 25:\n",
    "        print('Durante a viagem o tempo ficará fechado e abafado!')\n",
    "    else:\n",
    "        print(\"Durante a viagem o sol não aparecerá e ficará frio\")"
   ]
  },
  {
   "cell_type": "markdown",
   "metadata": {
    "pycharm": {
     "name": "#%% md\n"
    }
   },
   "source": [
    "![](../img/elif_meme.png)"
   ]
  },
  {
   "attachments": {},
   "cell_type": "markdown",
   "metadata": {
    "pycharm": {
     "name": "#%% md\n"
    }
   },
   "source": [
    "Se há mais de duas possibilidades a serem testadas, use if para a primeira, elif (que significa else\n",
    "if) para as possibilidades intermediárias, e else para a última:"
   ]
  },
  {
   "cell_type": "code",
   "execution_count": 50,
   "metadata": {
    "pycharm": {
     "name": "#%%\n"
    }
   },
   "outputs": [
    {
     "name": "stdout",
     "output_type": "stream",
     "text": [
      "Nunca ouvi falar da cor cor de burro quando foge\n"
     ]
    }
   ],
   "source": [
    "cor = \"cor de burro quando foge\"\n",
    "\n",
    "if cor == \"vermelho\":\n",
    "    print(\"A cor é vermelho que nem tomate\")\n",
    "elif cor == \"verde\":\n",
    "    print(\"A cor é verde que nem pimentão\")\n",
    "elif cor == \"amarela\":\n",
    "    print(\"A cor é amarelo que nem banana\")\n",
    "else:\n",
    "    print(\"Nunca ouvi falar da cor\", cor)"
   ]
  },
  {
   "attachments": {},
   "cell_type": "markdown",
   "metadata": {
    "pycharm": {
     "name": "#%% md\n"
    }
   },
   "source": [
    "Abaixo temos a lista de operadores de comparação que usamos para construir as regras com o comando if/elif/else\n",
    "\n",
    "![](../img/operadores_logicos.png)"
   ]
  },
  {
   "cell_type": "code",
   "execution_count": 51,
   "metadata": {
    "collapsed": false,
    "pycharm": {
     "name": "#%%\n"
    }
   },
   "outputs": [
    {
     "data": {
      "text/plain": [
       "False"
      ]
     },
     "execution_count": 51,
     "metadata": {},
     "output_type": "execute_result"
    }
   ],
   "source": [
    "caixa = 1000\n",
    "divida = 500\n",
    "(caixa > 800) and (divida < 100)"
   ]
  },
  {
   "cell_type": "markdown",
   "metadata": {
    "collapsed": false,
    "pycharm": {
     "name": "#%% md\n"
    }
   },
   "source": [
    "Se você tiver de fazer várias comparacões com o operador *or*, podemos usar o operador de filiacão do Python (membership operator)."
   ]
  },
  {
   "cell_type": "code",
   "execution_count": 52,
   "metadata": {
    "collapsed": false,
    "pycharm": {
     "name": "#%%\n"
    }
   },
   "outputs": [
    {
     "name": "stdout",
     "output_type": "stream",
     "text": [
      "o é uma vogal!\n"
     ]
    }
   ],
   "source": [
    "letra = \"o\"\n",
    "\n",
    "if letra == \"a\" or letra == \"e\" or letra == \"i\" or letra == \"o\" or letra == \"u\":\n",
    "    print(letra, \"é uma vogal!\")\n",
    "else:\n",
    "    print(letra, \"não é uma vogal!\")"
   ]
  },
  {
   "cell_type": "code",
   "execution_count": 56,
   "metadata": {
    "collapsed": false,
    "pycharm": {
     "name": "#%%\n"
    }
   },
   "outputs": [
    {
     "name": "stdout",
     "output_type": "stream",
     "text": [
      "o é uma vogal!\n"
     ]
    }
   ],
   "source": [
    "vogais = 'aeiou'\n",
    "letra = \"o\"\n",
    "if letra in vogais:\n",
    "    print(letra, \"é uma vogal!\")"
   ]
  },
  {
   "cell_type": "markdown",
   "metadata": {
    "collapsed": false,
    "pycharm": {
     "name": "#%% md\n"
    }
   },
   "source": [
    "## While"
   ]
  },
  {
   "cell_type": "markdown",
   "metadata": {
    "collapsed": false,
    "pycharm": {
     "name": "#%% md\n"
    }
   },
   "source": [
    "O while é usado quando precisamos repetir uma ação enquanto determinadas condições permanecem verdadeiras"
   ]
  },
  {
   "cell_type": "code",
   "execution_count": 60,
   "metadata": {
    "collapsed": false,
    "pycharm": {
     "name": "#%%\n"
    }
   },
   "outputs": [
    {
     "name": "stdout",
     "output_type": "stream",
     "text": [
      "1\n",
      "2\n",
      "3\n",
      "4\n",
      "5\n"
     ]
    }
   ],
   "source": [
    "conta = 1\n",
    "while conta <= 5:\n",
    "    print(conta)\n",
    "    conta +=1 # mesma coisa que conta = conta + 1\n",
    "\n",
    "# ou seja, o print e o incremento da variável conta ocorre enquanto a condição permanece verdadeira. A partir do momento que conta > 5, o Python sai\n",
    "# sai desse trecho de código "
   ]
  },
  {
   "cell_type": "markdown",
   "metadata": {
    "collapsed": false,
    "pycharm": {
     "name": "#%% md\n"
    }
   },
   "source": [
    "Se quisermos iterar até algo ocorrer, mas não sabemos quando essa coisa vai ocorrer, podemos usar um *loop* infinito com o comando break"
   ]
  },
  {
   "cell_type": "code",
   "execution_count": 7,
   "metadata": {
    "collapsed": false,
    "pycharm": {
     "name": "#%%\n"
    }
   },
   "outputs": [
    {
     "name": "stdout",
     "output_type": "stream",
     "text": [
      "Simone\n",
      "Jose\n",
      "Andrei\n",
      "Adrian\n",
      "Alan\n"
     ]
    }
   ],
   "source": [
    "while True:\n",
    "    value = input(\"Digite a string a ser capitalizada [digite q para sair]: \")\n",
    "    if value == \"q\":\n",
    "        break\n",
    "    print(value.capitalize())\n"
   ]
  },
  {
   "attachments": {},
   "cell_type": "markdown",
   "metadata": {
    "collapsed": false,
    "pycharm": {
     "name": "#%% md\n"
    }
   },
   "source": [
    "Às vezes só queremos avançar para o próximo item ao invés de para o *loop*. Nesse caso usamo o comando continue"
   ]
  },
  {
   "cell_type": "code",
   "execution_count": 9,
   "metadata": {
    "collapsed": false,
    "pycharm": {
     "name": "#%%\n"
    }
   },
   "outputs": [
    {
     "name": "stdout",
     "output_type": "stream",
     "text": [
      "1 ao quadrado é 1\n",
      "3 ao quadrado é 9\n",
      "5 ao quadrado é 25\n",
      "7 ao quadrado é 49\n",
      "9 ao quadrado é 81\n",
      "11 ao quadrado é 121\n",
      "13 ao quadrado é 169\n",
      "15 ao quadrado é 225\n"
     ]
    }
   ],
   "source": [
    "while True:\n",
    "    value = input(\"Digite um numero inteiro[digite q para sair]: \")\n",
    "    if value == 'q':\n",
    "        break\n",
    "    number = int(value) # transforma em inteiro\n",
    "    if number % 2 == 0: # numero par\n",
    "        continue\n",
    "    print(number, \"ao quadrado é\", number*number)"
   ]
  },
  {
   "attachments": {},
   "cell_type": "markdown",
   "metadata": {
    "collapsed": false,
    "pycharm": {
     "name": "#%% md\n"
    }
   },
   "source": [
    "## For\n",
    "Para consolidar os dados em uma única planilha, muitas vezes precisamos busca-los de diversas fontes. Nesse processo, se utiliza muito a estrutura de repetição ou laço for. Com o laço for podemos executar a mesma ação em todos os elementos de uma string, lista, dicionário e tipos de variáveis e estruturas de dados do Python. Essa é uma das maneiras mais comuns para um computador automatizar tarefas repetitivas."
   ]
  },
  {
   "cell_type": "code",
   "execution_count": 11,
   "metadata": {
    "collapsed": false,
    "pycharm": {
     "name": "#%%\n"
    }
   },
   "outputs": [
    {
     "name": "stdout",
     "output_type": "stream",
     "text": [
      "t\n",
      "e\n",
      "m\n",
      "p\n",
      "o\n"
     ]
    }
   ],
   "source": [
    "# Uso do for com uma string\n",
    "palavra = \"tempo\"\n",
    "\n",
    "for letra in palavra: # a variável tempo é criada agora, ou seja, só existe nesse laço\n",
    "    print(letra)\n"
   ]
  },
  {
   "cell_type": "code",
   "execution_count": 21,
   "metadata": {
    "collapsed": false,
    "pycharm": {
     "name": "#%%\n"
    }
   },
   "outputs": [
    {
     "name": "stdout",
     "output_type": "stream",
     "text": [
      "abacaxi\n",
      "melancia\n",
      "amora\n",
      "abacate\n",
      "uva\n",
      "morango\n",
      "banana\n"
     ]
    }
   ],
   "source": [
    "# Uso do for com uma lista\n",
    "frutas = ['abacaxi', 'melancia', 'amora','abacate', 'uva', 'morango', 'banana']\n",
    "\n",
    "for fruta in frutas:\n",
    "    print(fruta)"
   ]
  },
  {
   "cell_type": "code",
   "execution_count": 16,
   "metadata": {
    "collapsed": false,
    "pycharm": {
     "name": "#%%\n"
    }
   },
   "outputs": [
    {
     "name": "stdout",
     "output_type": "stream",
     "text": [
      "0\n",
      "1\n",
      "2\n"
     ]
    }
   ],
   "source": [
    "\n",
    "# a funcão range gera uma sequência de valores dentro de um intervalo (só funciona dentro do for)\n",
    "for item in range(0,3): # o ultimo valor a ser criado é o 2\n",
    "    print(item)\n",
    "# No lugar do range, poderiamos criar uma lista de números, mas ele facilita caso seja uma lista muito grande"
   ]
  },
  {
   "cell_type": "code",
   "execution_count": 20,
   "metadata": {
    "collapsed": false,
    "pycharm": {
     "name": "#%%\n"
    }
   },
   "outputs": [
    {
     "name": "stdout",
     "output_type": "stream",
     "text": [
      "2\n",
      "1\n",
      "0\n"
     ]
    }
   ],
   "source": [
    "# No range, é possível determinar o número de casas step a serem puladas. Por exemplo:\n",
    "for item in range(2, -1, -1): # range(start, stop, step), onde o -1 indica que é uma lista decrescente\n",
    "    print(item)"
   ]
  },
  {
   "cell_type": "code",
   "execution_count": 26,
   "metadata": {},
   "outputs": [
    {
     "data": {
      "text/plain": [
       "['abacaxi', 'melancia', 'amora', 'abacate', 'uva', 'morango', 'banana']"
      ]
     },
     "execution_count": 26,
     "metadata": {},
     "output_type": "execute_result"
    }
   ],
   "source": [
    "frutas"
   ]
  },
  {
   "cell_type": "code",
   "execution_count": 30,
   "metadata": {
    "collapsed": false,
    "pycharm": {
     "name": "#%%\n"
    }
   },
   "outputs": [
    {
     "name": "stdout",
     "output_type": "stream",
     "text": [
      "Abacaxi\n",
      "A fruta melancia não começa com a letra a!\n",
      "Amora\n",
      "Abacate\n",
      "A fruta uva não começa com a letra a!\n",
      "A fruta morango não começa com a letra a!\n",
      "A fruta banana não começa com a letra a!\n"
     ]
    }
   ],
   "source": [
    "for fruta in frutas:\n",
    "\tif fruta.startswith('a'):\n",
    "\t\tprint(fruta.capitalize())\n",
    "\telse:\n",
    "\t\tprint('A fruta {} não começa com a letra a!'.format(fruta)) # forma 2 de usar o print\n",
    "#\t\tprint('A fruta', fruta, 'não começa com a letra a!') # forma 1 de usar o print\n",
    "\t\t"
   ]
  },
  {
   "attachments": {},
   "cell_type": "markdown",
   "metadata": {
    "collapsed": false,
    "pycharm": {
     "name": "#%% md\n"
    }
   },
   "source": [
    "Podemos iterar sobre múltiplas listas em paralelo usando a funcão *zip()*, ou seja, fazendo um loop em todas as listas ao mesmo tempo olhando cada um dos elementos "
   ]
  },
  {
   "cell_type": "code",
   "execution_count": 31,
   "metadata": {
    "collapsed": false,
    "pycharm": {
     "name": "#%%\n"
    }
   },
   "outputs": [
    {
     "name": "stdout",
     "output_type": "stream",
     "text": [
      "segunda : beber café  - comer abacaxi - sair da dieta com pudim\n",
      "terca : beber suco  - comer melancia - sair da dieta com chocolate\n",
      "quarta : beber água  - comer amora - sair da dieta com sorvete\n"
     ]
    }
   ],
   "source": [
    "dias = [\"segunda\", \"terca\", \"quarta\", \"quinta\", \"sexta\"] # 5 dias\n",
    "frutas = ['abacaxi', 'melancia', 'amora'] # 3 frutas\n",
    "bebidas = [\"café\", \"suco\", \"água\", \"cerveja\", \"vinho\"] # 5 bebidas\n",
    "sobremesas = [\"pudim\", \"chocolate\", \"sorvete\",\"torta\", \"cookie\"] # 5 sobremesas\n",
    "\n",
    "for dia, fruta, bebida, sobremesa in zip(dias, frutas, bebidas, sobremesas): # listas zipadas\n",
    "    print(dia, \": beber\", bebida, \" - comer\", fruta, \"- sair da dieta com\", sobremesa) # ordem pode trocar aqui\n",
    "\n",
    "# Notar que a iteração só ocorre até o último elemento da menor lista"
   ]
  },
  {
   "cell_type": "code",
   "execution_count": 1,
   "metadata": {
    "collapsed": false,
    "pycharm": {
     "name": "#%%\n"
    }
   },
   "outputs": [
    {
     "name": "stdout",
     "output_type": "stream",
     "text": [
      "{'Monday': 'Segunda-feira', 'Tuesday': 'Terca-feira', 'Wednesday': 'Quarta-feira', 'Thursday': 'Quinta-feira', 'Saturaday': 'Sexta-feira', 'Sunday': 'Sábado'}\n"
     ]
    }
   ],
   "source": [
    "portugues = [\"Segunda-feira\", \"Terca-feira\", \"Quarta-feira\", \"Quinta-feira\", \"Sexta-feira\", \"Sábado\", \"Domingo\"]\n",
    "\n",
    "ingles = [\"Monday\", \"Tuesday\", \"Wednesday\", \"Thursday\", \"Saturaday\", \"Sunday\"]\n",
    "\n",
    "dicionario = dict(zip(ingles, portugues))\n",
    "print(dicionario)\n",
    "\n",
    "# para atrelar as duas listas, uso o comando o zip, e para transformar em um dicionário, usa o comando dict"
   ]
  }
 ],
 "metadata": {
  "kernelspec": {
   "display_name": "Python 3",
   "language": "python",
   "name": "python3"
  },
  "language_info": {
   "codemirror_mode": {
    "name": "ipython",
    "version": 3
   },
   "file_extension": ".py",
   "mimetype": "text/x-python",
   "name": "python",
   "nbconvert_exporter": "python",
   "pygments_lexer": "ipython3",
   "version": "3.10.4"
  },
  "vscode": {
   "interpreter": {
    "hash": "3ad933181bd8a04b432d3370b9dc3b0662ad032c4dfaa4e4f1596c548f763858"
   }
  }
 },
 "nbformat": 4,
 "nbformat_minor": 1
}
